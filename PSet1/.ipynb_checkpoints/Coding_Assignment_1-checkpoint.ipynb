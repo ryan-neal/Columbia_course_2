{
 "cells": [
  {
   "cell_type": "code",
   "execution_count": 39,
   "metadata": {
    "collapsed": true
   },
   "outputs": [],
   "source": [
    "import pandas as pd\n",
    "import numpy as np\n",
    "import matplotlib.pyplot as plt\n",
    "import seaborn as sns\n",
    "%matplotlib inline"
   ]
  },
  {
   "cell_type": "code",
   "execution_count": 40,
   "metadata": {
    "collapsed": true
   },
   "outputs": [],
   "source": [
    "stocks = pd.read_csv(\"stocks.csv\")"
   ]
  },
  {
   "cell_type": "code",
   "execution_count": 41,
   "metadata": {},
   "outputs": [
    {
     "data": {
      "text/html": [
       "<div>\n",
       "<table border=\"1\" class=\"dataframe\">\n",
       "  <thead>\n",
       "    <tr style=\"text-align: right;\">\n",
       "      <th></th>\n",
       "      <th>Date</th>\n",
       "      <th>BA</th>\n",
       "      <th>AMZN</th>\n",
       "      <th>AAPL</th>\n",
       "      <th>MSFT</th>\n",
       "      <th>MC.PA</th>\n",
       "      <th>GOOGL</th>\n",
       "      <th>GM</th>\n",
       "    </tr>\n",
       "  </thead>\n",
       "  <tbody>\n",
       "    <tr>\n",
       "      <th>0</th>\n",
       "      <td>9/24/12</td>\n",
       "      <td>NaN</td>\n",
       "      <td>NaN</td>\n",
       "      <td>NaN</td>\n",
       "      <td>NaN</td>\n",
       "      <td>NaN</td>\n",
       "      <td>NaN</td>\n",
       "      <td>NaN</td>\n",
       "    </tr>\n",
       "    <tr>\n",
       "      <th>1</th>\n",
       "      <td>9/25/12</td>\n",
       "      <td>-0.928195</td>\n",
       "      <td>-0.918366</td>\n",
       "      <td>-2.497137</td>\n",
       "      <td>-1.267028</td>\n",
       "      <td>0.162791</td>\n",
       "      <td>-0.029357</td>\n",
       "      <td>-3.448285</td>\n",
       "    </tr>\n",
       "    <tr>\n",
       "      <th>2</th>\n",
       "      <td>9/26/12</td>\n",
       "      <td>1.253978</td>\n",
       "      <td>-1.105129</td>\n",
       "      <td>-1.241190</td>\n",
       "      <td>-0.723948</td>\n",
       "      <td>-1.584719</td>\n",
       "      <td>0.573979</td>\n",
       "      <td>-0.552717</td>\n",
       "    </tr>\n",
       "    <tr>\n",
       "      <th>3</th>\n",
       "      <td>9/27/12</td>\n",
       "      <td>-0.213511</td>\n",
       "      <td>2.771658</td>\n",
       "      <td>2.426397</td>\n",
       "      <td>-0.033152</td>\n",
       "      <td>-1.321208</td>\n",
       "      <td>0.403470</td>\n",
       "      <td>-0.897800</td>\n",
       "    </tr>\n",
       "    <tr>\n",
       "      <th>4</th>\n",
       "      <td>9/28/12</td>\n",
       "      <td>-0.713257</td>\n",
       "      <td>-0.884676</td>\n",
       "      <td>-2.087090</td>\n",
       "      <td>-1.326249</td>\n",
       "      <td>-2.092070</td>\n",
       "      <td>-0.264377</td>\n",
       "      <td>-1.855053</td>\n",
       "    </tr>\n",
       "  </tbody>\n",
       "</table>\n",
       "</div>"
      ],
      "text/plain": [
       "      Date        BA      AMZN      AAPL      MSFT     MC.PA     GOOGL  \\\n",
       "0  9/24/12       NaN       NaN       NaN       NaN       NaN       NaN   \n",
       "1  9/25/12 -0.928195 -0.918366 -2.497137 -1.267028  0.162791 -0.029357   \n",
       "2  9/26/12  1.253978 -1.105129 -1.241190 -0.723948 -1.584719  0.573979   \n",
       "3  9/27/12 -0.213511  2.771658  2.426397 -0.033152 -1.321208  0.403470   \n",
       "4  9/28/12 -0.713257 -0.884676 -2.087090 -1.326249 -2.092070 -0.264377   \n",
       "\n",
       "         GM  \n",
       "0       NaN  \n",
       "1 -3.448285  \n",
       "2 -0.552717  \n",
       "3 -0.897800  \n",
       "4 -1.855053  "
      ]
     },
     "execution_count": 41,
     "metadata": {},
     "output_type": "execute_result"
    }
   ],
   "source": [
    "stocks.head()"
   ]
  },
  {
   "cell_type": "code",
   "execution_count": 42,
   "metadata": {
    "collapsed": true
   },
   "outputs": [],
   "source": [
    "def no_nan_length(df):\n",
    "    df.dropna(inplace=True)\n",
    "    return ([len(df), df])\n",
    "    \n",
    "    \n",
    "    "
   ]
  },
  {
   "cell_type": "code",
   "execution_count": 43,
   "metadata": {},
   "outputs": [
    {
     "data": {
      "text/plain": [
       "[1253,\n",
       "           Date        BA      AMZN      AAPL      MSFT     MC.PA     GOOGL  \\\n",
       " 1      9/25/12 -0.928195 -0.918366 -2.497137 -1.267028  0.162791 -0.029357   \n",
       " 2      9/26/12  1.253978 -1.105129 -1.241190 -0.723948 -1.584719  0.573979   \n",
       " 3      9/27/12 -0.213511  2.771658  2.426397 -0.033152 -1.321208  0.403470   \n",
       " 4      9/28/12 -0.713257 -0.884676 -2.087090 -1.326249 -2.092070 -0.264377   \n",
       " 5      10/1/12  0.589065 -0.908309 -1.155777 -0.907252  3.076933  0.964878   \n",
       " 6      10/2/12 -0.685631 -0.559497  0.291200  0.576469  0.124378 -0.628791   \n",
       " 7      10/3/12  0.474592  2.122902  1.533324  0.674319 -1.573499  0.727881   \n",
       " 8      10/4/12  0.114516  1.777901 -0.692543  0.569318  1.220025  0.727875   \n",
       " 9      10/5/12  1.358307 -0.752482 -2.131084 -0.599409  1.496257 -0.052087   \n",
       " 10     10/8/12 -0.451407  0.212753 -2.209643 -0.234513 -1.474199 -1.277927   \n",
       " 11     10/9/12  0.099222 -3.126685 -0.363569 -1.678960 -1.454696 -1.814363   \n",
       " 12    10/10/12 -0.424708 -2.378866  0.795802 -1.024607 -0.126529  0.063163   \n",
       " 13    10/11/12  0.696640 -0.314300 -1.998734 -0.103508  3.842897  0.929410   \n",
       " 14    10/12/12  1.440047 -0.761608  0.256338  0.863534 -0.081322 -0.895568   \n",
       " 15    10/15/12  0.556750  0.750946  0.801977  1.061660  0.773283 -0.506206   \n",
       " 16    10/16/12  1.702415 -0.098284  2.367810 -0.067771  3.594524  0.502034   \n",
       " 17    10/17/12  0.204113  1.455277 -0.797188  0.339101  0.506807  1.448903   \n",
       " 18    10/18/12  0.855632 -1.066709 -1.856906 -0.304153 -1.629154 -8.006723   \n",
       " 19    10/19/12 -0.336636 -1.980807 -3.603959 -2.915286 -0.788638 -1.900717   \n",
       " 20    10/22/12 -0.418880 -2.591667  3.966590 -2.234611 -0.556454 -0.457617   \n",
       " 21    10/23/12 -1.194030  0.226708 -3.260108  0.178561 -2.158256  0.247537   \n",
       " 22    10/24/12 -0.151060 -2.483886  0.565770 -0.534744  0.367640 -0.448297   \n",
       " 23    10/25/12 -1.609117 -2.437746 -1.181875 -0.071707 -0.366293  0.067915   \n",
       " 24    10/26/12 -0.601057  6.872424 -0.908875  1.183662  2.124170 -0.385092   \n",
       " 25    10/31/12 -0.942221 -2.245637 -1.437064  1.169803 -0.159998  0.762793   \n",
       " 26     11/1/12  0.496905 -0.322040  0.204922  3.433766  1.562498  1.071587   \n",
       " 27     11/2/12 -1.045361  0.120616 -3.309100 -0.067740 -1.065087  0.047993   \n",
       " 28     11/5/12  0.513945  0.821790  1.355760  0.440666  2.551842 -0.721014   \n",
       " 29     11/6/12  2.286563  1.378396 -0.302753  0.776258  1.088649 -0.181558   \n",
       " 30     11/7/12 -2.053624 -2.315205 -3.826257 -2.612212 -0.769238 -2.141643   \n",
       " ...        ...       ...       ...       ...       ...       ...       ...   \n",
       " 1228   8/11/17  0.858811  1.156837  1.390670  1.526393 -1.506636  0.703775   \n",
       " 1229   8/14/17  0.966446  1.581628  1.504959  1.503445  1.484018  0.950442   \n",
       " 1230   8/15/17  0.851783 -0.056951  1.094776  0.027328  0.022499 -0.090526   \n",
       " 1231   8/16/17 -0.660619 -0.464008 -0.402233  0.587273 -1.372021  0.659859   \n",
       " 1232   8/17/17 -0.841786 -1.800281 -1.919848 -1.697217 -0.045613 -1.759036   \n",
       " 1233   8/18/17  0.076407 -0.218624 -0.228051  0.124304 -0.136887 -0.159539   \n",
       " 1234   8/21/17 -0.038177 -0.540444 -0.184123 -0.469025 -0.388397 -0.573322   \n",
       " 1235   8/22/17  1.726921  1.427692  1.634751  1.399864 -0.894494  2.120824   \n",
       " 1236   8/23/17 -0.692390 -0.920470  0.125170 -0.601426 -1.342286  0.231815   \n",
       " 1237   8/24/17  0.273010 -0.579331 -0.443800 -0.041253 -0.211118 -0.603662   \n",
       " 1238   8/25/17 -1.193770 -0.754895  0.370438  0.178839  1.504465 -0.682045   \n",
       " 1239   8/28/17  0.546863  0.080402  1.007131  0.013735 -0.393697 -0.254701   \n",
       " 1240   8/29/17  1.395570  0.849874  0.891808  0.302075  1.836781  0.821005   \n",
       " 1241   8/30/17 -0.012474  1.418153  0.270089  1.314167  1.324198  0.842106   \n",
       " 1242   8/31/17 -0.332697  1.344572  0.397915  1.026881  0.270395  1.230354   \n",
       " 1243    9/1/17  0.279562 -0.239647  0.030490 -1.110064  0.112360 -0.340229   \n",
       " 1244    9/5/17 -1.385596 -1.326857 -1.200854 -0.446309 -2.514032 -1.104004   \n",
       " 1245    9/6/17 -1.004222  0.262100 -0.104885 -0.285286 -0.921022  0.057361   \n",
       " 1246    9/7/17  0.720315  1.205826 -0.401463  1.280646 -0.325353  0.835438   \n",
       " 1247    9/8/17  1.045238 -1.385438 -1.630900 -0.484252  1.002569 -0.892739   \n",
       " 1248   9/11/17  0.758019  1.248576  1.809238  1.054338  0.207755  0.199701   \n",
       " 1249   9/12/17 -0.004154  0.472411 -0.396284 -0.107012  0.944484  0.356205   \n",
       " 1250   9/13/17  0.561140  1.732170 -0.752211  0.709693  0.228206  0.400357   \n",
       " 1251   9/14/17  1.364032 -0.739291 -0.858124 -0.585031 -0.865214 -1.084760   \n",
       " 1252   9/15/17  1.537334 -0.546260  1.010871  0.722216 -0.321542 -0.514825   \n",
       " 1253   9/18/17  1.638555 -1.276865 -0.756822 -0.199169  0.898616 -0.592327   \n",
       " 1254   9/19/17 -0.244980 -0.444474  0.037813  0.372536 -0.913451  0.764720   \n",
       " 1255   9/20/17  1.188307  0.345414 -1.675795 -0.662778  0.483984  1.139977   \n",
       " 1256   9/21/17  0.227042 -0.879563 -1.717183 -0.974117 -0.458716  0.001056   \n",
       " 1257   9/22/17  0.160132 -0.990001 -0.977899  0.269512 -0.529951 -0.452744   \n",
       " \n",
       "             GM  \n",
       " 1    -3.448285  \n",
       " 2    -0.552717  \n",
       " 3    -0.897800  \n",
       " 4    -1.855053  \n",
       " 5     1.494491  \n",
       " 6     2.555222  \n",
       " 7     2.998300  \n",
       " 8     1.066018  \n",
       " 9     0.608517  \n",
       " 10   -0.927420  \n",
       " 11   -0.813986  \n",
       " 12   -0.574469  \n",
       " 13    1.774636  \n",
       " 14   -0.892129  \n",
       " 15    0.163668  \n",
       " 16    1.266330  \n",
       " 17    1.089152  \n",
       " 18    1.995220  \n",
       " 19   -3.794980  \n",
       " 20    0.121969  \n",
       " 21   -3.046277  \n",
       " 22   -0.754122  \n",
       " 23   -0.253250  \n",
       " 24   -1.481155  \n",
       " 25    9.536088  \n",
       " 26    0.705858  \n",
       " 27    0.428363  \n",
       " 28   -0.853031  \n",
       " 29    2.424702  \n",
       " 30   -4.429167  \n",
       " ...        ...  \n",
       " 1228  0.143350  \n",
       " 1229  1.545950  \n",
       " 1230  0.197350  \n",
       " 1231  0.590873  \n",
       " 1232 -2.097893  \n",
       " 1233 -0.485717  \n",
       " 1234  0.229687  \n",
       " 1235  1.117150  \n",
       " 1236  0.538254  \n",
       " 1237  0.084533  \n",
       " 1238  0.225214  \n",
       " 1239 -0.252809  \n",
       " 1240  0.028172  \n",
       " 1241  0.844584  \n",
       " 1242  2.010053  \n",
       " 1243  2.244121  \n",
       " 1244 -0.347967  \n",
       " 1245  1.181833  \n",
       " 1246 -1.019032  \n",
       " 1247  0.243836  \n",
       " 1248  0.945941  \n",
       " 1249  1.445786  \n",
       " 1250  0.844550  \n",
       " 1251  1.517933  \n",
       " 1252  0.232019  \n",
       " 1253 -0.745887  \n",
       " 1254  0.285051  \n",
       " 1255  0.465116  \n",
       " 1256  0.565836  \n",
       " 1257  0.818414  \n",
       " \n",
       " [1253 rows x 8 columns]]"
      ]
     },
     "execution_count": 43,
     "metadata": {},
     "output_type": "execute_result"
    }
   ],
   "source": [
    "no_nan_length(stocks)"
   ]
  },
  {
   "cell_type": "code",
   "execution_count": 44,
   "metadata": {},
   "outputs": [
    {
     "data": {
      "text/html": [
       "<div>\n",
       "<table border=\"1\" class=\"dataframe\">\n",
       "  <thead>\n",
       "    <tr style=\"text-align: right;\">\n",
       "      <th></th>\n",
       "      <th>Date</th>\n",
       "      <th>BA</th>\n",
       "      <th>AMZN</th>\n",
       "      <th>AAPL</th>\n",
       "      <th>MSFT</th>\n",
       "      <th>MC.PA</th>\n",
       "      <th>GOOGL</th>\n",
       "      <th>GM</th>\n",
       "    </tr>\n",
       "  </thead>\n",
       "  <tbody>\n",
       "    <tr>\n",
       "      <th>1</th>\n",
       "      <td>9/25/12</td>\n",
       "      <td>-0.928195</td>\n",
       "      <td>-0.918366</td>\n",
       "      <td>-2.497137</td>\n",
       "      <td>-1.267028</td>\n",
       "      <td>0.162791</td>\n",
       "      <td>-0.029357</td>\n",
       "      <td>-3.448285</td>\n",
       "    </tr>\n",
       "    <tr>\n",
       "      <th>2</th>\n",
       "      <td>9/26/12</td>\n",
       "      <td>1.253978</td>\n",
       "      <td>-1.105129</td>\n",
       "      <td>-1.241190</td>\n",
       "      <td>-0.723948</td>\n",
       "      <td>-1.584719</td>\n",
       "      <td>0.573979</td>\n",
       "      <td>-0.552717</td>\n",
       "    </tr>\n",
       "    <tr>\n",
       "      <th>3</th>\n",
       "      <td>9/27/12</td>\n",
       "      <td>-0.213511</td>\n",
       "      <td>2.771658</td>\n",
       "      <td>2.426397</td>\n",
       "      <td>-0.033152</td>\n",
       "      <td>-1.321208</td>\n",
       "      <td>0.403470</td>\n",
       "      <td>-0.897800</td>\n",
       "    </tr>\n",
       "    <tr>\n",
       "      <th>4</th>\n",
       "      <td>9/28/12</td>\n",
       "      <td>-0.713257</td>\n",
       "      <td>-0.884676</td>\n",
       "      <td>-2.087090</td>\n",
       "      <td>-1.326249</td>\n",
       "      <td>-2.092070</td>\n",
       "      <td>-0.264377</td>\n",
       "      <td>-1.855053</td>\n",
       "    </tr>\n",
       "    <tr>\n",
       "      <th>5</th>\n",
       "      <td>10/1/12</td>\n",
       "      <td>0.589065</td>\n",
       "      <td>-0.908309</td>\n",
       "      <td>-1.155777</td>\n",
       "      <td>-0.907252</td>\n",
       "      <td>3.076933</td>\n",
       "      <td>0.964878</td>\n",
       "      <td>1.494491</td>\n",
       "    </tr>\n",
       "  </tbody>\n",
       "</table>\n",
       "</div>"
      ],
      "text/plain": [
       "      Date        BA      AMZN      AAPL      MSFT     MC.PA     GOOGL  \\\n",
       "1  9/25/12 -0.928195 -0.918366 -2.497137 -1.267028  0.162791 -0.029357   \n",
       "2  9/26/12  1.253978 -1.105129 -1.241190 -0.723948 -1.584719  0.573979   \n",
       "3  9/27/12 -0.213511  2.771658  2.426397 -0.033152 -1.321208  0.403470   \n",
       "4  9/28/12 -0.713257 -0.884676 -2.087090 -1.326249 -2.092070 -0.264377   \n",
       "5  10/1/12  0.589065 -0.908309 -1.155777 -0.907252  3.076933  0.964878   \n",
       "\n",
       "         GM  \n",
       "1 -3.448285  \n",
       "2 -0.552717  \n",
       "3 -0.897800  \n",
       "4 -1.855053  \n",
       "5  1.494491  "
      ]
     },
     "execution_count": 44,
     "metadata": {},
     "output_type": "execute_result"
    }
   ],
   "source": [
    "stocks.head()"
   ]
  },
  {
   "cell_type": "code",
   "execution_count": 45,
   "metadata": {
    "collapsed": true
   },
   "outputs": [],
   "source": [
    "def compute_mean_portfolio(data):\n",
    "    \n",
    "    def expected_value(df):\n",
    "        portfolio_weights = {\"BA\": .16, \"AAPL\": .17, \"AMZN\": .35, \"GOOGL\": .21, \"MC.PA\": .08, \"MSFT\": .03}\n",
    "        x = stocks.drop([\"Date\", \"GM\"], axis=1)\n",
    "        if \"Portfolio\" in x.columns:\n",
    "            x.drop([\"Portfolio\"], axis = 1, inplace=True)\n",
    "        value = 0\n",
    "        for col in x.columns:\n",
    "            value += x[col] * portfolio_weights[col]\n",
    "        return value\n",
    "    \n",
    "    data[\"Portfolio\"] = expected_value(data)\n",
    "    return([data[\"Portfolio\"].mean(), data])\n",
    "    "
   ]
  },
  {
   "cell_type": "code",
   "execution_count": 46,
   "metadata": {},
   "outputs": [
    {
     "data": {
      "text/plain": [
       "[0.096381432037278808,\n",
       "           Date        BA      AMZN      AAPL      MSFT     MC.PA     GOOGL  \\\n",
       " 1      9/25/12 -0.928195 -0.918366 -2.497137 -1.267028  0.162791 -0.029357   \n",
       " 2      9/26/12  1.253978 -1.105129 -1.241190 -0.723948 -1.584719  0.573979   \n",
       " 3      9/27/12 -0.213511  2.771658  2.426397 -0.033152 -1.321208  0.403470   \n",
       " 4      9/28/12 -0.713257 -0.884676 -2.087090 -1.326249 -2.092070 -0.264377   \n",
       " 5      10/1/12  0.589065 -0.908309 -1.155777 -0.907252  3.076933  0.964878   \n",
       " 6      10/2/12 -0.685631 -0.559497  0.291200  0.576469  0.124378 -0.628791   \n",
       " 7      10/3/12  0.474592  2.122902  1.533324  0.674319 -1.573499  0.727881   \n",
       " 8      10/4/12  0.114516  1.777901 -0.692543  0.569318  1.220025  0.727875   \n",
       " 9      10/5/12  1.358307 -0.752482 -2.131084 -0.599409  1.496257 -0.052087   \n",
       " 10     10/8/12 -0.451407  0.212753 -2.209643 -0.234513 -1.474199 -1.277927   \n",
       " 11     10/9/12  0.099222 -3.126685 -0.363569 -1.678960 -1.454696 -1.814363   \n",
       " 12    10/10/12 -0.424708 -2.378866  0.795802 -1.024607 -0.126529  0.063163   \n",
       " 13    10/11/12  0.696640 -0.314300 -1.998734 -0.103508  3.842897  0.929410   \n",
       " 14    10/12/12  1.440047 -0.761608  0.256338  0.863534 -0.081322 -0.895568   \n",
       " 15    10/15/12  0.556750  0.750946  0.801977  1.061660  0.773283 -0.506206   \n",
       " 16    10/16/12  1.702415 -0.098284  2.367810 -0.067771  3.594524  0.502034   \n",
       " 17    10/17/12  0.204113  1.455277 -0.797188  0.339101  0.506807  1.448903   \n",
       " 18    10/18/12  0.855632 -1.066709 -1.856906 -0.304153 -1.629154 -8.006723   \n",
       " 19    10/19/12 -0.336636 -1.980807 -3.603959 -2.915286 -0.788638 -1.900717   \n",
       " 20    10/22/12 -0.418880 -2.591667  3.966590 -2.234611 -0.556454 -0.457617   \n",
       " 21    10/23/12 -1.194030  0.226708 -3.260108  0.178561 -2.158256  0.247537   \n",
       " 22    10/24/12 -0.151060 -2.483886  0.565770 -0.534744  0.367640 -0.448297   \n",
       " 23    10/25/12 -1.609117 -2.437746 -1.181875 -0.071707 -0.366293  0.067915   \n",
       " 24    10/26/12 -0.601057  6.872424 -0.908875  1.183662  2.124170 -0.385092   \n",
       " 25    10/31/12 -0.942221 -2.245637 -1.437064  1.169803 -0.159998  0.762793   \n",
       " 26     11/1/12  0.496905 -0.322040  0.204922  3.433766  1.562498  1.071587   \n",
       " 27     11/2/12 -1.045361  0.120616 -3.309100 -0.067740 -1.065087  0.047993   \n",
       " 28     11/5/12  0.513945  0.821790  1.355760  0.440666  2.551842 -0.721014   \n",
       " 29     11/6/12  2.286563  1.378396 -0.302753  0.776258  1.088649 -0.181558   \n",
       " 30     11/7/12 -2.053624 -2.315205 -3.826257 -2.612212 -0.769238 -2.141643   \n",
       " ...        ...       ...       ...       ...       ...       ...       ...   \n",
       " 1228   8/11/17  0.858811  1.156837  1.390670  1.526393 -1.506636  0.703775   \n",
       " 1229   8/14/17  0.966446  1.581628  1.504959  1.503445  1.484018  0.950442   \n",
       " 1230   8/15/17  0.851783 -0.056951  1.094776  0.027328  0.022499 -0.090526   \n",
       " 1231   8/16/17 -0.660619 -0.464008 -0.402233  0.587273 -1.372021  0.659859   \n",
       " 1232   8/17/17 -0.841786 -1.800281 -1.919848 -1.697217 -0.045613 -1.759036   \n",
       " 1233   8/18/17  0.076407 -0.218624 -0.228051  0.124304 -0.136887 -0.159539   \n",
       " 1234   8/21/17 -0.038177 -0.540444 -0.184123 -0.469025 -0.388397 -0.573322   \n",
       " 1235   8/22/17  1.726921  1.427692  1.634751  1.399864 -0.894494  2.120824   \n",
       " 1236   8/23/17 -0.692390 -0.920470  0.125170 -0.601426 -1.342286  0.231815   \n",
       " 1237   8/24/17  0.273010 -0.579331 -0.443800 -0.041253 -0.211118 -0.603662   \n",
       " 1238   8/25/17 -1.193770 -0.754895  0.370438  0.178839  1.504465 -0.682045   \n",
       " 1239   8/28/17  0.546863  0.080402  1.007131  0.013735 -0.393697 -0.254701   \n",
       " 1240   8/29/17  1.395570  0.849874  0.891808  0.302075  1.836781  0.821005   \n",
       " 1241   8/30/17 -0.012474  1.418153  0.270089  1.314167  1.324198  0.842106   \n",
       " 1242   8/31/17 -0.332697  1.344572  0.397915  1.026881  0.270395  1.230354   \n",
       " 1243    9/1/17  0.279562 -0.239647  0.030490 -1.110064  0.112360 -0.340229   \n",
       " 1244    9/5/17 -1.385596 -1.326857 -1.200854 -0.446309 -2.514032 -1.104004   \n",
       " 1245    9/6/17 -1.004222  0.262100 -0.104885 -0.285286 -0.921022  0.057361   \n",
       " 1246    9/7/17  0.720315  1.205826 -0.401463  1.280646 -0.325353  0.835438   \n",
       " 1247    9/8/17  1.045238 -1.385438 -1.630900 -0.484252  1.002569 -0.892739   \n",
       " 1248   9/11/17  0.758019  1.248576  1.809238  1.054338  0.207755  0.199701   \n",
       " 1249   9/12/17 -0.004154  0.472411 -0.396284 -0.107012  0.944484  0.356205   \n",
       " 1250   9/13/17  0.561140  1.732170 -0.752211  0.709693  0.228206  0.400357   \n",
       " 1251   9/14/17  1.364032 -0.739291 -0.858124 -0.585031 -0.865214 -1.084760   \n",
       " 1252   9/15/17  1.537334 -0.546260  1.010871  0.722216 -0.321542 -0.514825   \n",
       " 1253   9/18/17  1.638555 -1.276865 -0.756822 -0.199169  0.898616 -0.592327   \n",
       " 1254   9/19/17 -0.244980 -0.444474  0.037813  0.372536 -0.913451  0.764720   \n",
       " 1255   9/20/17  1.188307  0.345414 -1.675795 -0.662778  0.483984  1.139977   \n",
       " 1256   9/21/17  0.227042 -0.879563 -1.717183 -0.974117 -0.458716  0.001056   \n",
       " 1257   9/22/17  0.160132 -0.990001 -0.977899  0.269512 -0.529951 -0.452744   \n",
       " \n",
       "             GM  Portfolio  \n",
       " 1    -3.448285  -0.925605  \n",
       " 2    -0.552717  -0.425122  \n",
       " 3    -0.897800   1.326444  \n",
       " 4    -1.855053  -1.041235  \n",
       " 5     1.494491   0.001421  \n",
       " 6     2.555222  -0.360823  \n",
       " 7     2.998300   1.126820  \n",
       " 8     1.066018   0.790391  \n",
       " 9     0.608517  -0.317544  \n",
       " 10   -0.927420  -0.766737  \n",
       " 11   -0.813986  -1.688032  \n",
       " 12   -0.574469  -0.792866  \n",
       " 13    1.774636   0.161175  \n",
       " 14   -0.892129  -0.161247  \n",
       " 15    0.163668   0.475656  \n",
       " 16    1.266330   1.031470  \n",
       " 17    1.089152   0.761470  \n",
       " 18    1.995220  -2.372990  \n",
       " 19   -3.794980  -1.909517  \n",
       " 20    0.121969  -0.507438  \n",
       " 21   -3.046277  -0.781236  \n",
       " 22   -0.754122  -0.878122  \n",
       " 23   -0.253250  -1.328781  \n",
       " 24   -1.481155   2.279245  \n",
       " 25    9.536088  -0.998548  \n",
       " 26    0.705858   0.454673  \n",
       " 27    0.428363  -0.764750  \n",
       " 28   -0.853031   0.666291  \n",
       " 29    2.424702   0.869073  \n",
       " 30   -4.429167  -2.379016  \n",
       " ...        ...        ...  \n",
       " 1228  0.143350   0.851771  \n",
       " 1229  1.545950   1.327462  \n",
       " 1230  0.197350   0.286074  \n",
       " 1231  0.590873  -0.290055  \n",
       " 1232 -2.097893  -1.515121  \n",
       " 1233 -0.485717  -0.143787  \n",
       " 1234  0.229687  -0.392105  \n",
       " 1235  1.117150   1.469717  \n",
       " 1236  0.538254  -0.488412  \n",
       " 1237  0.084533  -0.379426  \n",
       " 1238  0.225214  -0.409749  \n",
       " 1239 -0.252809   0.202280  \n",
       " 1240  0.028172   1.000770  \n",
       " 1241  0.844584   0.862476  \n",
       " 1242  2.010053   0.795827  \n",
       " 1243  2.244121  -0.129724  \n",
       " 1244 -0.347967  -1.336593  \n",
       " 1245  1.181833  -0.156966  \n",
       " 1246 -1.019032   0.656874  \n",
       " 1247  0.243836  -0.716716  \n",
       " 1248  0.945941   0.956043  \n",
       " 1249  1.445786   0.244462  \n",
       " 1250  0.844550   0.691788  \n",
       " 1251  1.517933  -0.500956  \n",
       " 1252  0.232019   0.114460  \n",
       " 1253 -0.745887  -0.371868  \n",
       " 1254  0.285051  -0.089643  \n",
       " 1255  0.465116   0.284370  \n",
       " 1256  0.565836  -0.629140  \n",
       " 1257  0.818414  -0.616509  \n",
       " \n",
       " [1253 rows x 9 columns]]"
      ]
     },
     "execution_count": 46,
     "metadata": {},
     "output_type": "execute_result"
    }
   ],
   "source": [
    "compute_mean_portfolio(stocks)"
   ]
  },
  {
   "cell_type": "code",
   "execution_count": 47,
   "metadata": {
    "collapsed": true
   },
   "outputs": [],
   "source": [
    "def compute_standard_deviation_portfolio(data):\n",
    "    import math\n",
    "    portfolio_weights = {\"BA\": .16, \"AAPL\": .17, \"AMZN\": .35, \"GOOGL\": .21, \"MC.PA\": .08, \"MSFT\": .03}\n",
    "    x = data.drop([\"Date\", \"GM\", \"Portfolio\"], axis=1)\n",
    "    weights = []\n",
    "    cor = x.cov()\n",
    "    for col in x.columns:\n",
    "        weights.append(portfolio_weights[col])\n",
    "    weights = np.array([weights])\n",
    "    variance = weights*np.matrix(cor)*weights.T\n",
    "    return math.sqrt(variance)"
   ]
  },
  {
   "cell_type": "code",
   "execution_count": 48,
   "metadata": {},
   "outputs": [
    {
     "data": {
      "text/plain": [
       "1.0800712447773615"
      ]
     },
     "execution_count": 48,
     "metadata": {},
     "output_type": "execute_result"
    }
   ],
   "source": [
    "compute_standard_deviation_portfolio(stocks)"
   ]
  },
  {
   "cell_type": "code",
   "execution_count": 50,
   "metadata": {},
   "outputs": [
    {
     "name": "stdout",
     "output_type": "stream",
     "text": [
      "1.32063417354\n"
     ]
    }
   ],
   "source": [
    "print(stocks[\"BA\"].std())"
   ]
  },
  {
   "cell_type": "code",
   "execution_count": 51,
   "metadata": {},
   "outputs": [
    {
     "data": {
      "text/plain": [
       "<matplotlib.axes._subplots.AxesSubplot at 0x114860dd8>"
      ]
     },
     "execution_count": 51,
     "metadata": {},
     "output_type": "execute_result"
    },
    {
     "data": {
      "image/png": "[encoded data removed]",
      "text/plain": [
       "<matplotlib.figure.Figure at 0x1109e2438>"
      ]
     },
     "metadata": {},
     "output_type": "display_data"
    }
   ],
   "source": [
    "sns.heatmap(stocks.corr())"
   ]
  },
  {
   "cell_type": "code",
   "execution_count": 52,
   "metadata": {
    "collapsed": true
   },
   "outputs": [],
   "source": [
    "cor = stocks.corr()"
   ]
  },
  {
   "cell_type": "code",
   "execution_count": 53,
   "metadata": {
    "collapsed": true
   },
   "outputs": [],
   "source": [
    "lst = cor.sort_values([\"GM\"], ascending=False)"
   ]
  },
  {
   "cell_type": "code",
   "execution_count": 54,
   "metadata": {},
   "outputs": [
    {
     "data": {
      "text/plain": [
       "0.41373468751763548"
      ]
     },
     "execution_count": 54,
     "metadata": {},
     "output_type": "execute_result"
    }
   ],
   "source": [
    "lst[\"GM\"][1]"
   ]
  },
  {
   "cell_type": "code",
   "execution_count": null,
   "metadata": {
    "collapsed": true
   },
   "outputs": [],
   "source": []
  }
 ],
 "metadata": {
  "kernelspec": {
   "display_name": "Python 3",
   "language": "python",
   "name": "python3"
  },
  "language_info": {
   "codemirror_mode": {
    "name": "ipython",
    "version": 3
   },
   "file_extension": ".py",
   "mimetype": "text/x-python",
   "name": "python",
   "nbconvert_exporter": "python",
   "pygments_lexer": "ipython3",
   "version": "3.6.0"
  }
 },
 "nbformat": 4,
 "nbformat_minor": 2
}
