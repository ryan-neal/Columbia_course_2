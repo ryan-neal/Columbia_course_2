{
 "cells": [
  {
   "cell_type": "code",
   "execution_count": 235,
   "metadata": {
    "collapsed": true
   },
   "outputs": [],
   "source": [
    "def clean_data():\n",
    "    import pandas as pd\n",
    "    dirty_data = pd.read_csv(\"house_prices_train.csv\", index_col=\"Unnamed: 0\")\n",
    "    data_train = dirty_data.dropna()\n",
    "    nb_rows = len(data_train)\n",
    "    return ([nb_rows, data_train])"
   ]
  },
  {
   "cell_type": "code",
   "execution_count": 236,
   "metadata": {},
   "outputs": [],
   "source": [
    "def summary(data_train):\n",
    "    import pandas as pd\n",
    "    import numpy as np\n",
    "    from collections import Counter\n",
    "    max_sale = data_train[\"SalePrice\"].max()\n",
    "    min_garea = data_train[\"GarageArea\"].min()\n",
    "    fstq_lotarea = np.percentile(data_train[\"LotArea\"], 25)\n",
    "    scd_ybuilt = Counter(data_train[\"YearBuilt\"]).most_common(2)[1][0]  \n",
    "    mean_bed = dirty_data[\"BedroomAbvGr\"].mean()\n",
    "    return([max_sale, min_garea, fstq_lotarea, scd_ybuilt, mean_bed])"
   ]
  },
  {
   "cell_type": "code",
   "execution_count": 237,
   "metadata": {},
   "outputs": [],
   "source": [
    "data = clean_data()"
   ]
  },
  {
   "cell_type": "code",
   "execution_count": 238,
   "metadata": {},
   "outputs": [],
   "source": [
    "the_data = data[1]"
   ]
  },
  {
   "cell_type": "code",
   "execution_count": 239,
   "metadata": {},
   "outputs": [
    {
     "data": {
      "text/plain": [
       "[755000, 0, 7500.0, 2005, 2.8585746102449887]"
      ]
     },
     "execution_count": 239,
     "metadata": {},
     "output_type": "execute_result"
    }
   ],
   "source": [
    "summary(the_data)"
   ]
  },
  {
   "cell_type": "code",
   "execution_count": 240,
   "metadata": {
    "collapsed": true
   },
   "outputs": [],
   "source": [
    "def linear_regression_all_variables(data_train):\n",
    "    from sklearn.linear_model import LinearRegression\n",
    "    regr = LinearRegression()\n",
    "    target = data_train[\"SalePrice\"]\n",
    "    features = data_train[[\"LotArea\", \"YearBuilt\", \"GarageArea\", \"BedroomAbvGr\"]]\n",
    "    columns = features.columns.tolist()\n",
    "    regr.fit(features, target)\n",
    "    coefs = regr.coef_\n",
    "    dict_coeff = {}\n",
    "    for i in range(len(columns)):\n",
    "        dict_coeff[columns[i]] = coefs[i]\n",
    "    return([dict_coeff, regr])"
   ]
  },
  {
   "cell_type": "code",
   "execution_count": 241,
   "metadata": {},
   "outputs": [],
   "source": [
    "def compute_mse_test(data_train, data_test):\n",
    "    import math\n",
    "    from sklearn.linear_model import LinearRegression\n",
    "    from sklearn.metrics import mean_squared_error\n",
    "    dict_coeff, lreg = linear_regression_all_variables(data_train)\n",
    "    test_features = data_test[[\"LotArea\", \"YearBuilt\", \"GarageArea\", \"BedroomAbvGr\"]]\n",
    "    test_target = data_test[\"SalePrice\"]\n",
    "    y_pred = lreg.predict(test_features)\n",
    "    rmse = mean_squared_error(test_target, y_pred)\n",
    "    return math.sqrt(rmse)"
   ]
  },
  {
   "cell_type": "code",
   "execution_count": 242,
   "metadata": {
    "collapsed": true
   },
   "outputs": [],
   "source": [
    "test = pd.read_csv(\"house_prices_test.csv\", index_col=\"Unnamed: 0\")"
   ]
  },
  {
   "cell_type": "code",
   "execution_count": 243,
   "metadata": {},
   "outputs": [
    {
     "data": {
      "text/plain": [
       "58020.71363442446"
      ]
     },
     "execution_count": 243,
     "metadata": {},
     "output_type": "execute_result"
    }
   ],
   "source": [
    "compute_mse_test(data[1], test)"
   ]
  },
  {
   "cell_type": "code",
   "execution_count": 244,
   "metadata": {},
   "outputs": [],
   "source": [
    "def linear_regression_all(data_train, data_test):\n",
    "    import math\n",
    "    from sklearn.linear_model import LinearRegression\n",
    "    from sklearn.metrics import mean_squared_error\n",
    "    train_X = data_train.drop(\"SalePrice\", axis=1)\n",
    "    train_y = data_train[\"SalePrice\"]\n",
    "    test_X = data_test.drop(\"SalePrice\", axis=1)\n",
    "    test_y = data_test[\"SalePrice\"]\n",
    "    lreg = LinearRegression()\n",
    "    lreg.fit(train_X, train_y)\n",
    "    y_pred = lreg.predict(test_X)\n",
    "    rmse = mean_squared_error(test_y, y_pred)\n",
    "    return math.sqrt(rmse)"
   ]
  },
  {
   "cell_type": "code",
   "execution_count": 245,
   "metadata": {},
   "outputs": [
    {
     "data": {
      "text/plain": [
       "53921.22643406044"
      ]
     },
     "execution_count": 245,
     "metadata": {},
     "output_type": "execute_result"
    }
   ],
   "source": [
    "linear_regression_all(the_data, test)"
   ]
  },
  {
   "cell_type": "code",
   "execution_count": null,
   "metadata": {
    "collapsed": true
   },
   "outputs": [],
   "source": []
  }
 ],
 "metadata": {
  "kernelspec": {
   "display_name": "Python 3",
   "language": "python",
   "name": "python3"
  },
  "language_info": {
   "codemirror_mode": {
    "name": "ipython",
    "version": 3
   },
   "file_extension": ".py",
   "mimetype": "text/x-python",
   "name": "python",
   "nbconvert_exporter": "python",
   "pygments_lexer": "ipython3",
   "version": "3.6.3"
  }
 },
 "nbformat": 4,
 "nbformat_minor": 2
}
